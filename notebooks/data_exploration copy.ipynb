{
 "cells": [
  {
   "cell_type": "markdown",
   "id": "591d9092",
   "metadata": {},
   "source": [
    "# Задание по современным методам компьютерного зрения\n",
    "\n",
    "## Тема: \"Fine-tuning и анализ внимания в Vision Transformer\" ##\n",
    "## Студент: Шайдуров Даниил Сергеевич ## \n"
   ]
  },
  {
   "cell_type": "code",
   "execution_count": 7,
   "id": "8649dc26",
   "metadata": {},
   "outputs": [],
   "source": [
    "import torch\n",
    "from transformers import ViTImageProcessor\n",
    "from datasets import load_dataset\n",
    "import numpy as np\n",
    "from torchvision.transforms import RandomHorizontalFlip, RandomRotation, ColorJitter, Compose\n",
    "import evaluate \n",
    "import matplotlib.pyplot as plt"
   ]
  },
  {
   "cell_type": "markdown",
   "id": "491d1f9f",
   "metadata": {},
   "source": [
    "# Подготовка данных и fine-tuning ViT"
   ]
  },
  {
   "cell_type": "code",
   "execution_count": null,
   "id": "c6bef0d4",
   "metadata": {},
   "outputs": [],
   "source": [
    "from transformers import ViTImageProcessor\n",
    "from torchvision import transforms\n",
    "from datasets import load_dataset\n",
    "import torch\n",
    "\n",
    "def get_data_loaders(batch_size=32):\n",
    "    dataset = load_dataset(\"cifar10\")\n",
    "\n",
    "    # Используем процессор от предобученной модели\n",
    "    processor = ViTImageProcessor.from_pretrained(\"google/vit-base-patch16-224\")\n",
    "\n",
    "    # Определяем трансформации\n",
    "    train_transforms = transforms.Compose([\n",
    "        transforms.Resize((224, 224)),\n",
    "        transforms.RandomHorizontalFlip(),\n",
    "        transforms.RandomRotation(10),\n",
    "        transforms.ToTensor(),\n",
    "        transforms.Normalize(mean=processor.image_mean, std=processor.image_std),\n",
    "    ])\n",
    "\n",
    "    val_transforms = transforms.Compose([\n",
    "        transforms.Resize((224, 224)),\n",
    "        transforms.ToTensor(),\n",
    "        transforms.Normalize(mean=processor.image_mean, std=processor.image_std),\n",
    "    ])\n",
    "\n",
    "    def preprocess_train(example_batch):\n",
    "        example_batch['pixel_values'] = [train_transforms(image.convert('RGB')) for image in example_batch['img']]\n",
    "        return example_batch\n",
    "\n",
    "    def preprocess_val(example_batch):\n",
    "        example_batch['pixel_values'] = [val_transforms(image.convert('RGB')) for image in example_batch['img']]\n",
    "        return example_batch\n",
    "\n",
    "    # Применяем трансформации и устанавливаем формат для PyTorch\n",
    "    train_dataset = dataset['train'].with_transform(preprocess_train)\n",
    "    split_dataset = train_dataset.train_test_split(test_size=0.1, seed=42)\n",
    "    train_ds = split_dataset['train']\n",
    "    val_ds = split_dataset['test']\n",
    "    test_ds = dataset['test'].with_transform(preprocess_val)\n",
    "\n",
    "    # Создаем DataLoader\n",
    "    train_dataloader = torch.utils.data.DataLoader(train_ds, batch_size=batch_size, shuffle=True)\n",
    "    val_dataloader = torch.utils.data.DataLoader(val_ds, batch_size=batch_size)\n",
    "    test_dataloader = torch.utils.data.DataLoader(test_ds, batch_size=batch_size)\n",
    "\n",
    "    return train_dataloader, val_dataloader, test_dataloader, dataset['test'].features['label'].names"
   ]
  },
  {
   "cell_type": "code",
   "execution_count": null,
   "id": "4ff1b94a",
   "metadata": {},
   "outputs": [],
   "source": []
  },
  {
   "cell_type": "code",
   "execution_count": null,
   "id": "d8e6b45c",
   "metadata": {},
   "outputs": [],
   "source": []
  },
  {
   "cell_type": "code",
   "execution_count": null,
   "id": "50573c29",
   "metadata": {},
   "outputs": [],
   "source": []
  },
  {
   "cell_type": "code",
   "execution_count": null,
   "id": "a38917f1",
   "metadata": {},
   "outputs": [],
   "source": []
  },
  {
   "cell_type": "code",
   "execution_count": 8,
   "id": "cb0a495d",
   "metadata": {},
   "outputs": [],
   "source": [
    "# Загружаем датасет CIFAR-10\n",
    "dataset = load_dataset('cifar10')"
   ]
  },
  {
   "cell_type": "code",
   "execution_count": 9,
   "id": "28c6fe23",
   "metadata": {},
   "outputs": [],
   "source": [
    "# Создаем отдельные тестовую и валидационную выборки\n",
    "split = dataset['train'].train_test_split(test_size=0.1, seed=42)\n",
    "train_ds = split['train']\n",
    "val_ds = split['test']  # Это валидационная выборка\n",
    "test_ds = dataset['test']  # Это тестовая выборка"
   ]
  },
  {
   "cell_type": "code",
   "execution_count": 10,
   "id": "0baf1169",
   "metadata": {},
   "outputs": [
    {
     "data": {
      "image/png": "[encoded data removed]",
      "text/plain": [
       "<Figure size 400x400 with 1 Axes>"
      ]
     },
     "metadata": {},
     "output_type": "display_data"
    }
   ],
   "source": [
    "sample = dataset['train'][255]\n",
    "\n",
    "img = sample['img']\n",
    "label = sample['label']\n",
    "classes = dataset['train'].features['label'].names\n",
    "\n",
    "plt.figure(figsize=(4, 4))\n",
    "plt.imshow(img)\n",
    "plt.title(f'Label: {classes[label]}')\n",
    "plt.axis('off')\n",
    "plt.show()"
   ]
  },
  {
   "cell_type": "code",
   "execution_count": 11,
   "id": "1a1423da",
   "metadata": {},
   "outputs": [
    {
     "data": {
      "text/plain": [
       "PIL.PngImagePlugin.PngImageFile"
      ]
     },
     "execution_count": 11,
     "metadata": {},
     "output_type": "execute_result"
    }
   ],
   "source": [
    "type(img)"
   ]
  },
  {
   "cell_type": "code",
   "execution_count": 12,
   "id": "a779338e",
   "metadata": {},
   "outputs": [],
   "source": [
    "# Загружаем процессор для предобученной модели ViT\n",
    "model_name = 'google/vit-base-patch16-224'\n",
    "processor = ViTImageProcessor.from_pretrained(model_name)"
   ]
  },
  {
   "cell_type": "code",
   "execution_count": 13,
   "id": "b21610c1",
   "metadata": {},
   "outputs": [],
   "source": [
    "# Определяем аугментации для тренировочной выборки\n",
    "train_transforms = Compose([\n",
    "    RandomHorizontalFlip(p=0.5),\n",
    "    ColorJitter(brightness=0.2, contrast=0.2, saturation=0.2, hue=0.1),\n",
    "    RandomRotation(degrees=10),\n",
    "])"
   ]
  },
  {
   "cell_type": "code",
   "execution_count": 14,
   "id": "65fe62e5",
   "metadata": {},
   "outputs": [],
   "source": [
    "def transform_train(examples):\n",
    "    # ViT ожидает изображения в формате PIL\n",
    "    images = [image.convert('RGB') for image in examples['img']]\n",
    "    # Применяем аугментации\n",
    "    images = [train_transforms(image) for image in images]\n",
    "    # Применяем стандартный процессор ViT (изменение размера, нормализация)\n",
    "    inputs = processor(images=images, return_tensors='pt')\n",
    "    inputs['labels'] = examples['label']\n",
    "    return inputs"
   ]
  },
  {
   "cell_type": "code",
   "execution_count": 15,
   "id": "d509ab63",
   "metadata": {},
   "outputs": [],
   "source": [
    "def transform_val(examples):\n",
    "    images = [image.convert('RGB') for image in examples['img']]\n",
    "    inputs = processor(images=images, return_tensors='pt')\n",
    "    inputs['labels'] = examples['label']\n",
    "    return inputs"
   ]
  },
  {
   "cell_type": "code",
   "execution_count": 16,
   "id": "6caadb95",
   "metadata": {},
   "outputs": [],
   "source": [
    "# Применяем трансформации к датасетам\n",
    "train_ds.set_transform(transform_train)\n",
    "val_ds.set_transform(transform_val)\n",
    "test_ds.set_transform(transform_val)"
   ]
  },
  {
   "cell_type": "code",
   "execution_count": 17,
   "id": "643cc2d0",
   "metadata": {},
   "outputs": [
    {
     "name": "stdout",
     "output_type": "stream",
     "text": [
      "Размер тренировочной выборки: 45000\n",
      "Размер валидационной выборки: 5000\n",
      "Размер тестовой выборки: 10000\n"
     ]
    }
   ],
   "source": [
    "print(f\"Размер тренировочной выборки: {len(train_ds)}\")\n",
    "print(f\"Размер валидационной выборки: {len(val_ds)}\")\n",
    "print(f\"Размер тестовой выборки: {len(test_ds)}\")"
   ]
  },
  {
   "cell_type": "markdown",
   "id": "c0f9e730",
   "metadata": {},
   "source": [
    "# Реализация модели и обучения"
   ]
  },
  {
   "cell_type": "code",
   "execution_count": 18,
   "id": "fa62098c",
   "metadata": {},
   "outputs": [],
   "source": [
    "from transformers import ViTForImageClassification, TrainingArguments, Trainer"
   ]
  },
  {
   "cell_type": "code",
   "execution_count": 19,
   "id": "3b2676fe",
   "metadata": {},
   "outputs": [],
   "source": [
    "# Загружаем метрику accuracy из библиотеки evaluate\n",
    "accuracy_metric = evaluate.load(\"accuracy\")"
   ]
  },
  {
   "cell_type": "code",
   "execution_count": 20,
   "id": "1ec0b64e",
   "metadata": {},
   "outputs": [],
   "source": [
    "def compute_metrics(eval_pred):\n",
    "    logits, labels = eval_pred\n",
    "    predictions = np.argmax(logits, axis=-1)\n",
    "    return accuracy_metric.compute(predictions=predictions, references=labels)\n",
    "\n"
   ]
  },
  {
   "cell_type": "code",
   "execution_count": 21,
   "id": "6e5f6164",
   "metadata": {},
   "outputs": [
    {
     "name": "stderr",
     "output_type": "stream",
     "text": [
      "Some weights of ViTForImageClassification were not initialized from the model checkpoint at google/vit-base-patch16-224 and are newly initialized because the shapes did not match:\n",
      "- classifier.bias: found shape torch.Size([1000]) in the checkpoint and torch.Size([10]) in the model instantiated\n",
      "- classifier.weight: found shape torch.Size([1000, 768]) in the checkpoint and torch.Size([10, 768]) in the model instantiated\n",
      "You should probably TRAIN this model on a down-stream task to be able to use it for predictions and inference.\n"
     ]
    }
   ],
   "source": [
    "# Загружаем предобученную модель ViT\n",
    "model = ViTForImageClassification.from_pretrained(\n",
    "    model_name,\n",
    "    num_labels=10,\n",
    "    ignore_mismatched_sizes=True  # Игнорируем несовпадение размера головы классификатора\n",
    ")"
   ]
  },
  {
   "cell_type": "code",
   "execution_count": 31,
   "id": "dcf35fab",
   "metadata": {},
   "outputs": [],
   "source": [
    "# Определяем гиперпараметры обучения\n",
    "training_args = TrainingArguments(\n",
    "    output_dir='./vit-base-cifar10-results',\n",
    "    per_device_train_batch_size=16,\n",
    "    per_device_eval_batch_size=16,\n",
    "    eval_strategy=\"epoch\",\n",
    "    save_strategy=\"epoch\",\n",
    "    num_train_epochs=5,\n",
    "    logging_steps=10,\n",
    "    learning_rate=2e-5,\n",
    "    warmup_steps=500,\n",
    "    weight_decay=0.01,\n",
    "    load_best_model_at_end=True,\n",
    "    metric_for_best_model=\"accuracy\",\n",
    "    push_to_hub=False,\n",
    "    report_to=None,\n",
    "    dataloader_pin_memory=False,\n",
    "    remove_unused_columns=False,\n",
    "    save_total_limit=2,\n",
    ")"
   ]
  },
  {
   "cell_type": "code",
   "execution_count": 32,
   "id": "e4093443",
   "metadata": {},
   "outputs": [
    {
     "name": "stderr",
     "output_type": "stream",
     "text": [
      "/tmp/ipykernel_370665/2527621201.py:2: FutureWarning: `tokenizer` is deprecated and will be removed in version 5.0.0 for `Trainer.__init__`. Use `processing_class` instead.\n",
      "  trainer = Trainer(\n"
     ]
    }
   ],
   "source": [
    "# Создаем Trainer\n",
    "trainer = Trainer(\n",
    "    model=model,\n",
    "    args=training_args,\n",
    "    train_dataset=train_ds,\n",
    "    eval_dataset=val_ds,\n",
    "    compute_metrics=compute_metrics,\n",
    "    tokenizer=processor,\n",
    ")\n"
   ]
  },
  {
   "cell_type": "code",
   "execution_count": 33,
   "id": "52d8c3f0",
   "metadata": {},
   "outputs": [
    {
     "name": "stdout",
     "output_type": "stream",
     "text": [
      "Свободно памяти: 0.33 GB\n"
     ]
    }
   ],
   "source": [
    "import gc\n",
    "\n",
    "# Очистка памяти\n",
    "torch.cuda.empty_cache()\n",
    "gc.collect()\n",
    "\n",
    "# Проверка свободной памяти\n",
    "print(f\"Свободно памяти: {torch.cuda.memory_allocated() / 1024**3:.2f} GB\")"
   ]
  },
  {
   "cell_type": "code",
   "execution_count": 34,
   "id": "8f514501",
   "metadata": {},
   "outputs": [
    {
     "name": "stdout",
     "output_type": "stream",
     "text": [
      "Начинаем обучение...\n"
     ]
    },
    {
     "data": {
      "text/html": [
       "\n",
       "    <div>\n",
       "      \n",
       "      <progress value='264' max='14065' style='width:300px; height:20px; vertical-align: middle;'></progress>\n",
       "      [  264/14065 02:36 < 2:17:27, 1.67 it/s, Epoch 0.09/5]\n",
       "    </div>\n",
       "    <table border=\"1\" class=\"dataframe\">\n",
       "  <thead>\n",
       " <tr style=\"text-align: left;\">\n",
       "      <th>Epoch</th>\n",
       "      <th>Training Loss</th>\n",
       "      <th>Validation Loss</th>\n",
       "    </tr>\n",
       "  </thead>\n",
       "  <tbody>\n",
       "  </tbody>\n",
       "</table><p>"
      ],
      "text/plain": [
       "<IPython.core.display.HTML object>"
      ]
     },
     "metadata": {},
     "output_type": "display_data"
    },
    {
     "ename": "KeyboardInterrupt",
     "evalue": "",
     "output_type": "error",
     "traceback": [
      "\u001b[31m---------------------------------------------------------------------------\u001b[39m",
      "\u001b[31mKeyboardInterrupt\u001b[39m                         Traceback (most recent call last)",
      "\u001b[36mCell\u001b[39m\u001b[36m \u001b[39m\u001b[32mIn[34]\u001b[39m\u001b[32m, line 3\u001b[39m\n\u001b[32m      1\u001b[39m \u001b[38;5;66;03m# Запускаем fine-tuning!\u001b[39;00m\n\u001b[32m      2\u001b[39m \u001b[38;5;28mprint\u001b[39m(\u001b[33m\"\u001b[39m\u001b[33mНачинаем обучение...\u001b[39m\u001b[33m\"\u001b[39m)\n\u001b[32m----> \u001b[39m\u001b[32m3\u001b[39m train_results = \u001b[43mtrainer\u001b[49m\u001b[43m.\u001b[49m\u001b[43mtrain\u001b[49m\u001b[43m(\u001b[49m\u001b[43m)\u001b[49m\n\u001b[32m      4\u001b[39m \u001b[38;5;28mprint\u001b[39m(\u001b[33m\"\u001b[39m\u001b[33mОбучение завершено!\u001b[39m\u001b[33m\"\u001b[39m)\n\u001b[32m      6\u001b[39m \u001b[38;5;66;03m# Сохраняем модель\u001b[39;00m\n",
      "\u001b[36mFile \u001b[39m\u001b[32m~/Learn/Semestr_3/Modern_CV/Fine-tuning/.venv/lib/python3.12/site-packages/transformers/trainer.py:2325\u001b[39m, in \u001b[36mTrainer.train\u001b[39m\u001b[34m(self, resume_from_checkpoint, trial, ignore_keys_for_eval, **kwargs)\u001b[39m\n\u001b[32m   2323\u001b[39m         hf_hub_utils.enable_progress_bars()\n\u001b[32m   2324\u001b[39m \u001b[38;5;28;01melse\u001b[39;00m:\n\u001b[32m-> \u001b[39m\u001b[32m2325\u001b[39m     \u001b[38;5;28;01mreturn\u001b[39;00m \u001b[43minner_training_loop\u001b[49m\u001b[43m(\u001b[49m\n\u001b[32m   2326\u001b[39m \u001b[43m        \u001b[49m\u001b[43margs\u001b[49m\u001b[43m=\u001b[49m\u001b[43margs\u001b[49m\u001b[43m,\u001b[49m\n\u001b[32m   2327\u001b[39m \u001b[43m        \u001b[49m\u001b[43mresume_from_checkpoint\u001b[49m\u001b[43m=\u001b[49m\u001b[43mresume_from_checkpoint\u001b[49m\u001b[43m,\u001b[49m\n\u001b[32m   2328\u001b[39m \u001b[43m        \u001b[49m\u001b[43mtrial\u001b[49m\u001b[43m=\u001b[49m\u001b[43mtrial\u001b[49m\u001b[43m,\u001b[49m\n\u001b[32m   2329\u001b[39m \u001b[43m        \u001b[49m\u001b[43mignore_keys_for_eval\u001b[49m\u001b[43m=\u001b[49m\u001b[43mignore_keys_for_eval\u001b[49m\u001b[43m,\u001b[49m\n\u001b[32m   2330\u001b[39m \u001b[43m    \u001b[49m\u001b[43m)\u001b[49m\n",
      "\u001b[36mFile \u001b[39m\u001b[32m~/Learn/Semestr_3/Modern_CV/Fine-tuning/.venv/lib/python3.12/site-packages/transformers/trainer.py:2679\u001b[39m, in \u001b[36mTrainer._inner_training_loop\u001b[39m\u001b[34m(self, batch_size, args, resume_from_checkpoint, trial, ignore_keys_for_eval)\u001b[39m\n\u001b[32m   2673\u001b[39m \u001b[38;5;28;01mwith\u001b[39;00m context():\n\u001b[32m   2674\u001b[39m     tr_loss_step = \u001b[38;5;28mself\u001b[39m.training_step(model, inputs, num_items_in_batch)\n\u001b[32m   2676\u001b[39m \u001b[38;5;28;01mif\u001b[39;00m (\n\u001b[32m   2677\u001b[39m     args.logging_nan_inf_filter\n\u001b[32m   2678\u001b[39m     \u001b[38;5;129;01mand\u001b[39;00m \u001b[38;5;129;01mnot\u001b[39;00m is_torch_xla_available()\n\u001b[32m-> \u001b[39m\u001b[32m2679\u001b[39m     \u001b[38;5;129;01mand\u001b[39;00m (torch.isnan(tr_loss_step) \u001b[38;5;129;01mor\u001b[39;00m \u001b[43mtorch\u001b[49m\u001b[43m.\u001b[49m\u001b[43misinf\u001b[49m\u001b[43m(\u001b[49m\u001b[43mtr_loss_step\u001b[49m\u001b[43m)\u001b[49m)\n\u001b[32m   2680\u001b[39m ):\n\u001b[32m   2681\u001b[39m     \u001b[38;5;66;03m# if loss is nan or inf simply add the average of previous logged losses\u001b[39;00m\n\u001b[32m   2682\u001b[39m     tr_loss = tr_loss + tr_loss / (\u001b[32m1\u001b[39m + \u001b[38;5;28mself\u001b[39m.state.global_step - \u001b[38;5;28mself\u001b[39m._globalstep_last_logged)\n\u001b[32m   2683\u001b[39m \u001b[38;5;28;01melse\u001b[39;00m:\n",
      "\u001b[31mKeyboardInterrupt\u001b[39m: "
     ]
    }
   ],
   "source": [
    "# Запускаем fine-tuning!\n",
    "print(\"Начинаем обучение...\")\n",
    "train_results = trainer.train()\n",
    "print(\"Обучение завершено!\")\n",
    "\n",
    "# Сохраняем модель\n",
    "trainer.save_model()\n",
    "trainer.save_state()"
   ]
  },
  {
   "cell_type": "code",
   "execution_count": null,
   "id": "865eb16b",
   "metadata": {},
   "outputs": [],
   "source": []
  }
 ],
 "metadata": {
  "kernelspec": {
   "display_name": "fine-tuning-py3.12",
   "language": "python",
   "name": "python3"
  },
  "language_info": {
   "codemirror_mode": {
    "name": "ipython",
    "version": 3
   },
   "file_extension": ".py",
   "mimetype": "text/x-python",
   "name": "python",
   "nbconvert_exporter": "python",
   "pygments_lexer": "ipython3",
   "version": "3.12.3"
  }
 },
 "nbformat": 4,
 "nbformat_minor": 5
}
