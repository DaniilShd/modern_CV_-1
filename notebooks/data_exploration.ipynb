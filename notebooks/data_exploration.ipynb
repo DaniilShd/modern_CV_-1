{
 "cells": [
  {
   "cell_type": "markdown",
   "id": "591d9092",
   "metadata": {},
   "source": [
    "# Задание по современным методам компьютерного зрения\n",
    "\n",
    "## Тема: \"Fine-tuning и анализ внимания в Vision Transformer\" ##\n",
    "## Студент: Шайдуров Даниил Сергеевич ## \n"
   ]
  },
  {
   "cell_type": "markdown",
   "id": "ce5dd348",
   "metadata": {},
   "source": [
    "# Подготовка данных "
   ]
  }
 ],
 "metadata": {
  "kernelspec": {
   "display_name": "fine-tuning-py3.12",
   "language": "python",
   "name": "python3"
  },
  "language_info": {
   "codemirror_mode": {
    "name": "ipython",
    "version": 3
   },
   "file_extension": ".py",
   "mimetype": "text/x-python",
   "name": "python",
   "nbconvert_exporter": "python",
   "pygments_lexer": "ipython3",
   "version": "3.12.3"
  }
 },
 "nbformat": 4,
 "nbformat_minor": 5
}
